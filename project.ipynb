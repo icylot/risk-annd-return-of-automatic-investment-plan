{
 "cells": [
  {
   "cell_type": "markdown",
   "metadata": {},
   "source": [
    "### Preface:\n",
    "A lot of apps in China claims that by using automatic investment plan, which is an investment program that allows investors to contribute money to an investment account at regular intervals to be invested in a pre-set strategy or portfolio, investors can have a higher chance of winning, which is making a profit, than a lump-sum buy. For example, buying $100 of QQQ every week is a kind of automatic investment plan. These apps recommend 'newbie' investors to adopt this plan to have a higher rate of making a gain."
   ]
  },
  {
   "cell_type": "markdown",
   "metadata": {},
   "source": [
    "I want to test if automatic investment plan really beats lump-sum buy. 'Beats' can have a lot of meanings: it could be a higher return, a smaller volatility, or a higher sharpe ratio."
   ]
  },
  {
   "cell_type": "code",
   "execution_count": 2,
   "metadata": {},
   "outputs": [
    {
     "data": {
      "text/html": [
       "<div>\n",
       "<style scoped>\n",
       "    .dataframe tbody tr th:only-of-type {\n",
       "        vertical-align: middle;\n",
       "    }\n",
       "\n",
       "    .dataframe tbody tr th {\n",
       "        vertical-align: top;\n",
       "    }\n",
       "\n",
       "    .dataframe thead th {\n",
       "        text-align: right;\n",
       "    }\n",
       "</style>\n",
       "<table border=\"1\" class=\"dataframe\">\n",
       "  <thead>\n",
       "    <tr style=\"text-align: right;\">\n",
       "      <th></th>\n",
       "      <th>QQQ</th>\n",
       "    </tr>\n",
       "    <tr>\n",
       "      <th>Date</th>\n",
       "      <th></th>\n",
       "    </tr>\n",
       "  </thead>\n",
       "  <tbody>\n",
       "    <tr>\n",
       "      <th>1999-03-10</th>\n",
       "      <td>44.229828</td>\n",
       "    </tr>\n",
       "    <tr>\n",
       "      <th>1999-03-11</th>\n",
       "      <td>44.446377</td>\n",
       "    </tr>\n",
       "    <tr>\n",
       "      <th>1999-03-12</th>\n",
       "      <td>43.363640</td>\n",
       "    </tr>\n",
       "    <tr>\n",
       "      <th>1999-03-15</th>\n",
       "      <td>44.608795</td>\n",
       "    </tr>\n",
       "    <tr>\n",
       "      <th>1999-03-16</th>\n",
       "      <td>44.987747</td>\n",
       "    </tr>\n",
       "  </tbody>\n",
       "</table>\n",
       "</div>"
      ],
      "text/plain": [
       "                  QQQ\n",
       "Date                 \n",
       "1999-03-10  44.229828\n",
       "1999-03-11  44.446377\n",
       "1999-03-12  43.363640\n",
       "1999-03-15  44.608795\n",
       "1999-03-16  44.987747"
      ]
     },
     "execution_count": 2,
     "metadata": {},
     "output_type": "execute_result"
    }
   ],
   "source": [
    "import pandas as pd\n",
    "import pandas_datareader as pdr\n",
    "# the first step is to download the data from yahoo using pandas datareader\n",
    "# the nasdaq_etf.csv which contains info of all etf traded on nasdaq is downloaded directly from nasdaq website\n",
    "data = pd.read_csv('nasdaq_etf.csv')\n",
    "ticker = data['SYMBOL']\n",
    "df = pd.DataFrame()\n",
    "# we start the first column with 'QQQ' which is a nasdaq index etf\n",
    "df['QQQ'] = pdr.get_data_yahoo('QQQ', start='1990-01-01')['Adj Close']\n",
    "df.head()"
   ]
  },
  {
   "cell_type": "code",
   "execution_count": 4,
   "metadata": {
    "pycharm": {
     "name": "#%%\n"
    }
   },
   "outputs": [
    {
     "name": "stderr",
     "output_type": "stream",
     "text": [
      "C:\\Users\\chenw\\AppData\\Local\\Temp/ipykernel_19480/1427067231.py:3: PerformanceWarning: DataFrame is highly fragmented.  This is usually the result of calling `frame.insert` many times, which has poor performance.  Consider joining all columns at once using pd.concat(axis=1) instead.  To get a de-fragmented frame, use `newframe = frame.copy()`\n",
      "  df[i] = d['Adj Close']\n"
     ]
    }
   ],
   "source": [
    "# this is the loop to download the price data of all etf traded on Nasdaq and concatenate them into one dataframe\n",
    "# since the data is too large, it may take a long time to run\n",
    "for i in ticker:\n",
    "    d = pdr.get_data_yahoo(i, start='1990-01-01')\n",
    "    df[i] = d['Adj Close']"
   ]
  },
  {
   "cell_type": "code",
   "execution_count": 5,
   "metadata": {
    "pycharm": {
     "name": "#%%\n"
    }
   },
   "outputs": [],
   "source": [
    "newframe = df.copy()"
   ]
  },
  {
   "cell_type": "code",
   "execution_count": 6,
   "metadata": {
    "pycharm": {
     "name": "#%%\n"
    }
   },
   "outputs": [
    {
     "name": "stdout",
     "output_type": "stream",
     "text": [
      "<class 'pandas.core.frame.DataFrame'>\n",
      "DatetimeIndex: 5768 entries, 1999-03-10 to 2022-02-07\n",
      "Columns: 2697 entries, QQQ to PSCT\n",
      "dtypes: float64(2697)\n",
      "memory usage: 118.9 MB\n"
     ]
    }
   ],
   "source": [
    "# it show that there are 2697 etfs in total with price data of 5768 trading days\n",
    "newframe.info()"
   ]
  },
  {
   "cell_type": "code",
   "execution_count": 7,
   "metadata": {
    "pycharm": {
     "name": "#%%\n"
    }
   },
   "outputs": [],
   "source": [
    "# this concludes the data downloading process\n",
    "newframe.to_csv('etf_price_data.csv')"
   ]
  },
  {
   "cell_type": "code",
   "execution_count": 1,
   "metadata": {
    "pycharm": {
     "name": "#%%\n"
    }
   },
   "outputs": [
    {
     "data": {
      "text/plain": "         Date        QQQ  DJUN  DLN  DLS  DMAR  DMAY  DMCY  DMDV  DMRE  ...  \\\n0  1999-03-10  44.335434   NaN  NaN  NaN   NaN   NaN   NaN   NaN   NaN  ...   \n1  1999-03-11  44.552479   NaN  NaN  NaN   NaN   NaN   NaN   NaN   NaN  ...   \n2  1999-03-12  43.467171   NaN  NaN  NaN   NaN   NaN   NaN   NaN   NaN  ...   \n3  1999-03-15  44.715282   NaN  NaN  NaN   NaN   NaN   NaN   NaN   NaN  ...   \n4  1999-03-16  45.095146   NaN  NaN  NaN   NaN   NaN   NaN   NaN   NaN  ...   \n\n   PSC  PSCC  PSCD  PSCE  PSCF  PSCH  PSCI  PSCJ  PSCM  PSCT  \n0  NaN   NaN   NaN   NaN   NaN   NaN   NaN   NaN   NaN   NaN  \n1  NaN   NaN   NaN   NaN   NaN   NaN   NaN   NaN   NaN   NaN  \n2  NaN   NaN   NaN   NaN   NaN   NaN   NaN   NaN   NaN   NaN  \n3  NaN   NaN   NaN   NaN   NaN   NaN   NaN   NaN   NaN   NaN  \n4  NaN   NaN   NaN   NaN   NaN   NaN   NaN   NaN   NaN   NaN  \n\n[5 rows x 2698 columns]",
      "text/html": "<div>\n<style scoped>\n    .dataframe tbody tr th:only-of-type {\n        vertical-align: middle;\n    }\n\n    .dataframe tbody tr th {\n        vertical-align: top;\n    }\n\n    .dataframe thead th {\n        text-align: right;\n    }\n</style>\n<table border=\"1\" class=\"dataframe\">\n  <thead>\n    <tr style=\"text-align: right;\">\n      <th></th>\n      <th>Date</th>\n      <th>QQQ</th>\n      <th>DJUN</th>\n      <th>DLN</th>\n      <th>DLS</th>\n      <th>DMAR</th>\n      <th>DMAY</th>\n      <th>DMCY</th>\n      <th>DMDV</th>\n      <th>DMRE</th>\n      <th>...</th>\n      <th>PSC</th>\n      <th>PSCC</th>\n      <th>PSCD</th>\n      <th>PSCE</th>\n      <th>PSCF</th>\n      <th>PSCH</th>\n      <th>PSCI</th>\n      <th>PSCJ</th>\n      <th>PSCM</th>\n      <th>PSCT</th>\n    </tr>\n  </thead>\n  <tbody>\n    <tr>\n      <th>0</th>\n      <td>1999-03-10</td>\n      <td>44.335434</td>\n      <td>NaN</td>\n      <td>NaN</td>\n      <td>NaN</td>\n      <td>NaN</td>\n      <td>NaN</td>\n      <td>NaN</td>\n      <td>NaN</td>\n      <td>NaN</td>\n      <td>...</td>\n      <td>NaN</td>\n      <td>NaN</td>\n      <td>NaN</td>\n      <td>NaN</td>\n      <td>NaN</td>\n      <td>NaN</td>\n      <td>NaN</td>\n      <td>NaN</td>\n      <td>NaN</td>\n      <td>NaN</td>\n    </tr>\n    <tr>\n      <th>1</th>\n      <td>1999-03-11</td>\n      <td>44.552479</td>\n      <td>NaN</td>\n      <td>NaN</td>\n      <td>NaN</td>\n      <td>NaN</td>\n      <td>NaN</td>\n      <td>NaN</td>\n      <td>NaN</td>\n      <td>NaN</td>\n      <td>...</td>\n      <td>NaN</td>\n      <td>NaN</td>\n      <td>NaN</td>\n      <td>NaN</td>\n      <td>NaN</td>\n      <td>NaN</td>\n      <td>NaN</td>\n      <td>NaN</td>\n      <td>NaN</td>\n      <td>NaN</td>\n    </tr>\n    <tr>\n      <th>2</th>\n      <td>1999-03-12</td>\n      <td>43.467171</td>\n      <td>NaN</td>\n      <td>NaN</td>\n      <td>NaN</td>\n      <td>NaN</td>\n      <td>NaN</td>\n      <td>NaN</td>\n      <td>NaN</td>\n      <td>NaN</td>\n      <td>...</td>\n      <td>NaN</td>\n      <td>NaN</td>\n      <td>NaN</td>\n      <td>NaN</td>\n      <td>NaN</td>\n      <td>NaN</td>\n      <td>NaN</td>\n      <td>NaN</td>\n      <td>NaN</td>\n      <td>NaN</td>\n    </tr>\n    <tr>\n      <th>3</th>\n      <td>1999-03-15</td>\n      <td>44.715282</td>\n      <td>NaN</td>\n      <td>NaN</td>\n      <td>NaN</td>\n      <td>NaN</td>\n      <td>NaN</td>\n      <td>NaN</td>\n      <td>NaN</td>\n      <td>NaN</td>\n      <td>...</td>\n      <td>NaN</td>\n      <td>NaN</td>\n      <td>NaN</td>\n      <td>NaN</td>\n      <td>NaN</td>\n      <td>NaN</td>\n      <td>NaN</td>\n      <td>NaN</td>\n      <td>NaN</td>\n      <td>NaN</td>\n    </tr>\n    <tr>\n      <th>4</th>\n      <td>1999-03-16</td>\n      <td>45.095146</td>\n      <td>NaN</td>\n      <td>NaN</td>\n      <td>NaN</td>\n      <td>NaN</td>\n      <td>NaN</td>\n      <td>NaN</td>\n      <td>NaN</td>\n      <td>NaN</td>\n      <td>...</td>\n      <td>NaN</td>\n      <td>NaN</td>\n      <td>NaN</td>\n      <td>NaN</td>\n      <td>NaN</td>\n      <td>NaN</td>\n      <td>NaN</td>\n      <td>NaN</td>\n      <td>NaN</td>\n      <td>NaN</td>\n    </tr>\n  </tbody>\n</table>\n<p>5 rows × 2698 columns</p>\n</div>"
     },
     "execution_count": 1,
     "metadata": {},
     "output_type": "execute_result"
    }
   ],
   "source": [
    "# here begins the testing process\n",
    "import pandas as pd\n",
    "data = pd.read_csv('etf_price_data.csv')\n",
    "data.head()"
   ]
  },
  {
   "cell_type": "code",
   "execution_count": 4,
   "metadata": {
    "pycharm": {
     "name": "#%%\n"
    }
   },
   "outputs": [
    {
     "data": {
      "text/plain": "0        44.335434\n1        44.552479\n2        43.467171\n3        44.715282\n4        45.095146\n           ...    \n5763    365.519989\n5764    368.489990\n5765    353.549988\n5766    358.010010\n5767    355.130005\nName: QQQ, Length: 5768, dtype: float64"
     },
     "execution_count": 4,
     "metadata": {},
     "output_type": "execute_result"
    }
   ],
   "source": [
    "# since the data is too big and may take a long time to run the test, by the time I only test the QQQ\n",
    "p = data['QQQ']"
   ]
  },
  {
   "cell_type": "code",
   "execution_count": 3,
   "metadata": {
    "pycharm": {
     "name": "#%%\n"
    }
   },
   "outputs": [
    {
     "data": {
      "text/plain": "0.22260471993801106"
     },
     "execution_count": 3,
     "metadata": {},
     "output_type": "execute_result"
    }
   ],
   "source": [
    "from random import randint\n",
    "\n",
    "columns = ['lsr', 'air']\n",
    "df = []\n",
    "n = p.count()\n",
    "for j in range(10000):\n",
    "    t0 = randint(1, n-1)\n",
    "    t1 = randint(t0+1, n)\n",
    "    t = t1 - t0\n",
    "    # the annualized return of lump-sum buy denoted lpr is\n",
    "    lsr = (p[t1-1]/p[t0-1]-1)/t*250\n",
    "    cost = 0\n",
    "    for i in range(t0, t1):\n",
    "        # the cost is the number of shares bought every day\n",
    "        cost += 1/t/p[i-1]\n",
    "    # the annualized return of automatic investment plan denoted air is\n",
    "    air = (p[t1-1]*cost - 1)/t*250\n",
    "    df.append([lsr, air])\n",
    "\n",
    "df = pd.DataFrame(df, columns=columns)\n",
    "\n",
    "mean = df.mean()\n",
    "std = df.std()\n",
    "# here we use a risk-free rate of 0.03 for simplicity\n",
    "sharpe = (mean-0.03)/std\n",
    "# this code cell can be run multiple times but will always get a positive sharpe ratio difference, which is the return of lump-\n",
    "# sum buy over that of automatic investment plan. Thus, we can conclude that for the 'QQQ', lump-sum buy has better return per\n",
    "# unit risk than automatic investment plan.\n",
    "sharpe_diff = sharpe[0] - sharpe[1]\n",
    "sharpe_diff\n",
    "# this code cell can be run multiple times, the statistic could be different from that in the write-up, but the test result is\n",
    "# basically the same"
   ]
  },
  {
   "cell_type": "code",
   "execution_count": 8,
   "outputs": [
    {
     "data": {
      "text/plain": "lsr    0.8937\nair    0.8937\ndtype: float64"
     },
     "execution_count": 8,
     "metadata": {},
     "output_type": "execute_result"
    }
   ],
   "source": [
    "df.loc[df['lsr']>0].count()/df.count()"
   ],
   "metadata": {
    "collapsed": false,
    "pycharm": {
     "name": "#%%\n"
    }
   }
  },
  {
   "cell_type": "code",
   "execution_count": 9,
   "outputs": [
    {
     "data": {
      "text/plain": "lsr    0.9157\nair    0.9157\ndtype: float64"
     },
     "execution_count": 9,
     "metadata": {},
     "output_type": "execute_result"
    }
   ],
   "source": [
    "df.loc[df['air']>0].count()/df.count()"
   ],
   "metadata": {
    "collapsed": false,
    "pycharm": {
     "name": "#%%\n"
    }
   }
  },
  {
   "cell_type": "code",
   "execution_count": 17,
   "metadata": {
    "pycharm": {
     "name": "#%%\n"
    }
   },
   "outputs": [
    {
     "data": {
      "text/plain": [
       "lsr    0.543729\n",
       "air    0.305563\n",
       "dtype: float64"
      ]
     },
     "execution_count": 17,
     "metadata": {},
     "output_type": "execute_result"
    }
   ],
   "source": [
    "# the sharpe ratio of each plan is\n",
    "mean = df.mean()\n",
    "std = df.std()\n",
    "sharpe = (mean-0.03)/std\n",
    "sharpe"
   ]
  },
  {
   "cell_type": "code",
   "execution_count": 19,
   "metadata": {
    "pycharm": {
     "name": "#%%\n"
    }
   },
   "outputs": [
    {
     "data": {
      "text/html": [
       "<div>\n",
       "<style scoped>\n",
       "    .dataframe tbody tr th:only-of-type {\n",
       "        vertical-align: middle;\n",
       "    }\n",
       "\n",
       "    .dataframe tbody tr th {\n",
       "        vertical-align: top;\n",
       "    }\n",
       "\n",
       "    .dataframe thead th {\n",
       "        text-align: right;\n",
       "    }\n",
       "</style>\n",
       "<table border=\"1\" class=\"dataframe\">\n",
       "  <thead>\n",
       "    <tr style=\"text-align: right;\">\n",
       "      <th></th>\n",
       "      <th>lsr</th>\n",
       "      <th>air</th>\n",
       "    </tr>\n",
       "  </thead>\n",
       "  <tbody>\n",
       "    <tr>\n",
       "      <th>count</th>\n",
       "      <td>10000.000000</td>\n",
       "      <td>10000.000000</td>\n",
       "    </tr>\n",
       "    <tr>\n",
       "      <th>mean</th>\n",
       "      <td>0.227851</td>\n",
       "      <td>0.111440</td>\n",
       "    </tr>\n",
       "    <tr>\n",
       "      <th>std</th>\n",
       "      <td>0.363878</td>\n",
       "      <td>0.266523</td>\n",
       "    </tr>\n",
       "    <tr>\n",
       "      <th>min</th>\n",
       "      <td>-10.135962</td>\n",
       "      <td>-10.135962</td>\n",
       "    </tr>\n",
       "    <tr>\n",
       "      <th>25%</th>\n",
       "      <td>0.110308</td>\n",
       "      <td>0.068352</td>\n",
       "    </tr>\n",
       "    <tr>\n",
       "      <th>50%</th>\n",
       "      <td>0.233907</td>\n",
       "      <td>0.118661</td>\n",
       "    </tr>\n",
       "    <tr>\n",
       "      <th>75%</th>\n",
       "      <td>0.351111</td>\n",
       "      <td>0.169579</td>\n",
       "    </tr>\n",
       "    <tr>\n",
       "      <th>max</th>\n",
       "      <td>9.445682</td>\n",
       "      <td>9.445682</td>\n",
       "    </tr>\n",
       "  </tbody>\n",
       "</table>\n",
       "</div>"
      ],
      "text/plain": [
       "                lsr           air\n",
       "count  10000.000000  10000.000000\n",
       "mean       0.227851      0.111440\n",
       "std        0.363878      0.266523\n",
       "min      -10.135962    -10.135962\n",
       "25%        0.110308      0.068352\n",
       "50%        0.233907      0.118661\n",
       "75%        0.351111      0.169579\n",
       "max        9.445682      9.445682"
      ]
     },
     "execution_count": 19,
     "metadata": {},
     "output_type": "execute_result"
    }
   ],
   "source": [
    "# this is the answer I get for now, there could be mistakes or bias, for example my thinking process could be wrong, or as you\n",
    "# know the nasdaq has been trending upward since its exception, of course, lump-sum buy would provide a higher return.\n",
    "# my next step would be testing every ticker, that is every security that is publicly traded on the market, to try to get a\n",
    "# general idea.\n",
    "df.describe()"
   ]
  },
  {
   "cell_type": "code",
   "execution_count": 24,
   "metadata": {
    "pycharm": {
     "name": "#%%\n"
    }
   },
   "outputs": [
    {
     "data": {
      "text/plain": [
       "(array([[1.000e+00, 0.000e+00, 0.000e+00, 0.000e+00, 0.000e+00, 0.000e+00,\n",
       "         0.000e+00, 0.000e+00, 0.000e+00, 0.000e+00, 0.000e+00, 0.000e+00,\n",
       "         0.000e+00, 0.000e+00, 0.000e+00, 1.000e+00, 0.000e+00, 0.000e+00,\n",
       "         0.000e+00, 0.000e+00, 0.000e+00, 0.000e+00, 0.000e+00, 1.000e+00,\n",
       "         0.000e+00, 0.000e+00, 1.000e+00, 0.000e+00, 0.000e+00, 2.000e+00,\n",
       "         0.000e+00, 1.000e+00, 0.000e+00, 0.000e+00, 1.000e+00, 0.000e+00,\n",
       "         2.000e+00, 2.000e+00, 2.000e+00, 2.000e+00, 5.000e+00, 7.000e+00,\n",
       "         3.000e+00, 6.000e+00, 1.200e+01, 1.000e+01, 2.300e+01, 1.800e+01,\n",
       "         3.900e+01, 7.300e+01, 1.390e+02, 1.149e+03, 3.682e+03, 3.419e+03,\n",
       "         1.041e+03, 2.060e+02, 8.100e+01, 3.400e+01, 9.000e+00, 4.000e+00,\n",
       "         7.000e+00, 0.000e+00, 4.000e+00, 1.000e+00, 0.000e+00, 0.000e+00,\n",
       "         3.000e+00, 1.000e+00, 0.000e+00, 1.000e+00, 1.000e+00, 1.000e+00,\n",
       "         0.000e+00, 1.000e+00, 2.000e+00, 0.000e+00, 0.000e+00, 0.000e+00,\n",
       "         0.000e+00, 0.000e+00, 0.000e+00, 0.000e+00, 0.000e+00, 0.000e+00,\n",
       "         0.000e+00, 0.000e+00, 0.000e+00, 0.000e+00, 0.000e+00, 0.000e+00,\n",
       "         0.000e+00, 0.000e+00, 1.000e+00, 0.000e+00, 0.000e+00, 0.000e+00,\n",
       "         0.000e+00, 0.000e+00, 0.000e+00, 1.000e+00],\n",
       "        [1.000e+00, 0.000e+00, 0.000e+00, 0.000e+00, 0.000e+00, 0.000e+00,\n",
       "         0.000e+00, 0.000e+00, 0.000e+00, 0.000e+00, 0.000e+00, 0.000e+00,\n",
       "         0.000e+00, 0.000e+00, 0.000e+00, 0.000e+00, 0.000e+00, 0.000e+00,\n",
       "         0.000e+00, 0.000e+00, 0.000e+00, 1.000e+00, 0.000e+00, 1.000e+00,\n",
       "         0.000e+00, 0.000e+00, 0.000e+00, 0.000e+00, 0.000e+00, 0.000e+00,\n",
       "         0.000e+00, 0.000e+00, 0.000e+00, 2.000e+00, 0.000e+00, 0.000e+00,\n",
       "         1.000e+00, 3.000e+00, 0.000e+00, 1.000e+00, 2.000e+00, 3.000e+00,\n",
       "         0.000e+00, 6.000e+00, 6.000e+00, 1.000e+01, 1.400e+01, 1.300e+01,\n",
       "         2.500e+01, 5.300e+01, 1.400e+02, 1.402e+03, 7.504e+03, 7.070e+02,\n",
       "         5.600e+01, 1.700e+01, 1.200e+01, 0.000e+00, 4.000e+00, 3.000e+00,\n",
       "         3.000e+00, 3.000e+00, 1.000e+00, 1.000e+00, 0.000e+00, 0.000e+00,\n",
       "         0.000e+00, 1.000e+00, 0.000e+00, 0.000e+00, 0.000e+00, 0.000e+00,\n",
       "         0.000e+00, 0.000e+00, 2.000e+00, 0.000e+00, 0.000e+00, 0.000e+00,\n",
       "         0.000e+00, 0.000e+00, 0.000e+00, 0.000e+00, 0.000e+00, 0.000e+00,\n",
       "         0.000e+00, 0.000e+00, 0.000e+00, 0.000e+00, 0.000e+00, 0.000e+00,\n",
       "         0.000e+00, 0.000e+00, 1.000e+00, 0.000e+00, 0.000e+00, 0.000e+00,\n",
       "         0.000e+00, 0.000e+00, 0.000e+00, 1.000e+00]]),\n",
       " array([-10.1359622 ,  -9.94014575,  -9.74432931,  -9.54851287,\n",
       "         -9.35269643,  -9.15687999,  -8.96106355,  -8.76524711,\n",
       "         -8.56943066,  -8.37361422,  -8.17779778,  -7.98198134,\n",
       "         -7.7861649 ,  -7.59034846,  -7.39453202,  -7.19871558,\n",
       "         -7.00289913,  -6.80708269,  -6.61126625,  -6.41544981,\n",
       "         -6.21963337,  -6.02381693,  -5.82800049,  -5.63218404,\n",
       "         -5.4363676 ,  -5.24055116,  -5.04473472,  -4.84891828,\n",
       "         -4.65310184,  -4.4572854 ,  -4.26146896,  -4.06565251,\n",
       "         -3.86983607,  -3.67401963,  -3.47820319,  -3.28238675,\n",
       "         -3.08657031,  -2.89075387,  -2.69493743,  -2.49912098,\n",
       "         -2.30330454,  -2.1074881 ,  -1.91167166,  -1.71585522,\n",
       "         -1.52003878,  -1.32422234,  -1.12840589,  -0.93258945,\n",
       "         -0.73677301,  -0.54095657,  -0.34514013,  -0.14932369,\n",
       "          0.04649275,   0.24230919,   0.43812564,   0.63394208,\n",
       "          0.82975852,   1.02557496,   1.2213914 ,   1.41720784,\n",
       "          1.61302428,   1.80884073,   2.00465717,   2.20047361,\n",
       "          2.39629005,   2.59210649,   2.78792293,   2.98373937,\n",
       "          3.17955581,   3.37537226,   3.5711887 ,   3.76700514,\n",
       "          3.96282158,   4.15863802,   4.35445446,   4.5502709 ,\n",
       "          4.74608735,   4.94190379,   5.13772023,   5.33353667,\n",
       "          5.52935311,   5.72516955,   5.92098599,   6.11680243,\n",
       "          6.31261888,   6.50843532,   6.70425176,   6.9000682 ,\n",
       "          7.09588464,   7.29170108,   7.48751752,   7.68333396,\n",
       "          7.87915041,   8.07496685,   8.27078329,   8.46659973,\n",
       "          8.66241617,   8.85823261,   9.05404905,   9.2498655 ,\n",
       "          9.44568194]),\n",
       " <a list of 2 BarContainer objects>)"
      ]
     },
     "execution_count": 24,
     "metadata": {},
     "output_type": "execute_result"
    },
    {
     "data": {
      "image/png": "[encoded data removed]",
      "text/plain": [
       "<Figure size 432x288 with 1 Axes>"
      ]
     },
     "metadata": {
      "needs_background": "light"
     },
     "output_type": "display_data"
    }
   ],
   "source": [
    "import matplotlib.pyplot as plt\n",
    "plt.hist(df, bins=100)"
   ]
  },
  {
   "cell_type": "code",
   "execution_count": 18,
   "metadata": {
    "pycharm": {
     "name": "#%%\n"
    }
   },
   "outputs": [
    {
     "data": {
      "text/plain": [
       "Ttest_relResult(statistic=67.87595403539177, pvalue=0.0)"
      ]
     },
     "execution_count": 18,
     "metadata": {},
     "output_type": "execute_result"
    }
   ],
   "source": [
    "# using t test to test if the means of the two plan are different\n",
    "import scipy.stats as sst\n",
    "sst.ttest_rel(df['lsr'], df['air'])"
   ]
  },
  {
   "cell_type": "code",
   "execution_count": 25,
   "metadata": {
    "pycharm": {
     "name": "#%%\n"
    }
   },
   "outputs": [
    {
     "data": {
      "text/plain": [
       "1.8639792071030483"
      ]
     },
     "execution_count": 25,
     "metadata": {},
     "output_type": "execute_result"
    }
   ],
   "source": [
    "fstat = (std[0]/std[1])**2\n",
    "fstat"
   ]
  },
  {
   "cell_type": "code",
   "execution_count": 26,
   "metadata": {
    "pycharm": {
     "name": "#%%\n"
    }
   },
   "outputs": [
    {
     "data": {
      "text/plain": [
       "1.0476321748962272"
      ]
     },
     "execution_count": 26,
     "metadata": {},
     "output_type": "execute_result"
    }
   ],
   "source": [
    "sst.f.ppf(0.99, 9999, 9999)"
   ]
  },
  {
   "cell_type": "code",
   "execution_count": 20,
   "metadata": {
    "pycharm": {
     "name": "#%%\n"
    }
   },
   "outputs": [
    {
     "data": {
      "text/plain": [
       "(0.8972159711365683, 0.0)"
      ]
     },
     "execution_count": 20,
     "metadata": {},
     "output_type": "execute_result"
    }
   ],
   "source": [
    "sst.pearsonr(df['lsr'], df['air'])"
   ]
  },
  {
   "cell_type": "code",
   "execution_count": 21,
   "metadata": {
    "pycharm": {
     "name": "#%%\n"
    }
   },
   "outputs": [
    {
     "data": {
      "text/plain": [
       "SpearmanrResult(correlation=0.8429147160888946, pvalue=0.0)"
      ]
     },
     "execution_count": 21,
     "metadata": {},
     "output_type": "execute_result"
    }
   ],
   "source": [
    "sst.spearmanr(df['lsr'], df['air'])"
   ]
  },
  {
   "cell_type": "markdown",
   "metadata": {
    "pycharm": {
     "name": "#%% md\n"
    }
   },
   "source": [
    "### Conclusion\n",
    "Lump-sum buy return has a higher mean and a higher std than automatic investment plan. However, the percent of risk reduction by using automatic investment plan is much less than the percent of return reduction, in other words, the Sharpe ratio of the latter is lower.\n",
    "It is a bad deal."
   ]
  },
  {
   "cell_type": "markdown",
   "metadata": {},
   "source": [
    "### possible flaws and bias\n",
    "I only test the price data of QQQ, it may not be the case for other stocks or ETFs.\n",
    "QQQ has been trending upward for the past 2 decades, it is natural sense that a lump-sum buy would provide a higher return, this might be the cause of higher Sharpe ratio.\n"
   ]
  }
 ],
 "metadata": {
  "kernelspec": {
   "display_name": "Python 3 (ipykernel)",
   "language": "python",
   "name": "python3"
  },
  "language_info": {
   "codemirror_mode": {
    "name": "ipython",
    "version": 3
   },
   "file_extension": ".py",
   "mimetype": "text/x-python",
   "name": "python",
   "nbconvert_exporter": "python",
   "pygments_lexer": "ipython3",
   "version": "3.9.7"
  }
 },
 "nbformat": 4,
 "nbformat_minor": 1
}